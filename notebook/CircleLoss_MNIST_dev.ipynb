{
 "cells": [
  {
   "cell_type": "markdown",
   "metadata": {},
   "source": [
    "# Circle Loss MNISTでの実験\n",
    "- [github](https://github.com/TinyZeaMays/CircleLoss/blob/master/mnist_example.py)のLossを使う\n",
    "- ネットワークは本当に簡単なものを使用\n",
    "- 分類モデルはロジスティックとlightgbm\n",
    "- 評価指標はaccuracy, macro平均のprecision, confusion matrixの可視化"
   ]
  },
  {
   "cell_type": "code",
   "execution_count": 28,
   "metadata": {},
   "outputs": [],
   "source": [
    "import numpy as np\n",
    "import matplotlib.pyplot as plt\n",
    "\n",
    "\n",
    "from typing import Tuple\n",
    "from tqdm import tqdm\n",
    "from sklearn import manifold\n",
    " \n",
    "import torch\n",
    "from torch import nn, Tensor\n",
    "from torch import optim\n",
    "from torch.utils.data import DataLoader\n",
    "from torchvision import datasets, transforms\n",
    "import torch.optim.lr_scheduler as lr_scheduler\n",
    "from torchvision.transforms import ToTensor\n",
    " \n",
    "from sklearn.metrics import confusion_matrix\n",
    "import seaborn as sns\n",
    "import lightgbm as lgb\n",
    "\n",
    "from sklearn.linear_model import LogisticRegression\n",
    "from sklearn.metrics import accuracy_score"
   ]
  },
  {
   "cell_type": "code",
   "execution_count": 4,
   "metadata": {},
   "outputs": [],
   "source": [
    "use_cuda = torch.cuda.is_available() and True\n",
    "device = torch.device(\"cuda\" if use_cuda else \"cpu\")"
   ]
  },
  {
   "cell_type": "code",
   "execution_count": 5,
   "metadata": {},
   "outputs": [],
   "source": [
    "def get_mnist_loader(is_train: bool, batch_size: int) -> DataLoader:\n",
    "    trainset = datasets.MNIST(\n",
    "                                root=\"../data\",\n",
    "                                train=is_train,\n",
    "                                transform=ToTensor(),\n",
    "                                download=True\n",
    "                              )\n",
    "    return DataLoader(trainset, batch_size=batch_size, shuffle=is_train)\n",
    " \n",
    "# data loder\n",
    "train_loader = get_mnist_loader(is_train=True, batch_size=64)"
   ]
  },
  {
   "cell_type": "code",
   "execution_count": 6,
   "metadata": {},
   "outputs": [],
   "source": [
    "def visualize(features, labels, num_classes):\n",
    "    # t-SNEで2次元に圧縮\n",
    "    tsne = manifold.TSNE(n_components=2, init='pca', random_state=501)\n",
    "    features = tsne.fit_transform(features)\n",
    "    \n",
    "    # カラーマップ\n",
    "    colors = ['C0', 'C1', 'C2', 'C3', 'C4', 'C5', 'C6', 'C7', 'C8', 'C9']\n",
    "    \n",
    "    plt.figure(figsize=(10, 5))\n",
    "    # 描画\n",
    "    for i in range(num_classes):\n",
    "        plt.plot(features[labels == i, 0], features[labels == i, 1], '.', c=colors[i])\n",
    "\n",
    "    # グラフ設定\n",
    "    plt.legend(['0', '1', '2', '3', '4', '5', '6', '7', '8', '9'], loc='upper right')\n",
    "    plt.show()"
   ]
  },
  {
   "cell_type": "code",
   "execution_count": 7,
   "metadata": {},
   "outputs": [],
   "source": [
    "def convert_label_to_similarity(normed_feature: Tensor, label: Tensor) -> Tuple[Tensor, Tensor]:\n",
    "    # 行列の掛け算?\n",
    "    similarity_matrix = normed_feature @ normed_feature.transpose(1, 0)\n",
    "    # 次元を増やす??\n",
    "    label_matrix = label.unsqueeze(1) == label.unsqueeze(0)\n",
    "\n",
    "    positive_matrix = label_matrix.triu(diagonal=1)\n",
    "    negative_matrix = label_matrix.logical_not().triu(diagonal=1)\n",
    "    \n",
    "    # view = reshape\n",
    "    similarity_matrix = similarity_matrix.view(-1)\n",
    "    positive_matrix = positive_matrix.view(-1)\n",
    "    negative_matrix = negative_matrix.view(-1)\n",
    "    return similarity_matrix[positive_matrix], similarity_matrix[negative_matrix]\n",
    "\n",
    "\n",
    "class CircleLoss(nn.Module):\n",
    "    def __init__(self, m: float, gamma: float) -> None:\n",
    "        super(CircleLoss, self).__init__()\n",
    "        self.m = m\n",
    "        self.gamma = gamma\n",
    "        self.soft_plus = nn.Softplus()\n",
    "\n",
    "    def forward(self, sp: Tensor, sn: Tensor) -> Tensor:\n",
    "        ap = torch.clamp_min(- sp.detach() + 1 + self.m, min=0.)\n",
    "        an = torch.clamp_min(sn.detach() + self.m, min=0.)\n",
    "\n",
    "        delta_p = 1 - self.m\n",
    "        delta_n = self.m\n",
    "\n",
    "        logit_p = - ap * (sp - delta_p) * self.gamma\n",
    "        logit_n = an * (sn - delta_n) * self.gamma\n",
    "\n",
    "        loss = self.soft_plus(torch.logsumexp(logit_n, dim=0) + torch.logsumexp(logit_p, dim=0))\n",
    "\n",
    "        return loss"
   ]
  },
  {
   "cell_type": "code",
   "execution_count": 8,
   "metadata": {},
   "outputs": [],
   "source": [
    "class Model(nn.Module):\n",
    "    def __init__(self) -> None:\n",
    "        super(Model, self).__init__()\n",
    "        self.feature_extractor = nn.Sequential(\n",
    "            nn.Conv2d(in_channels=1, out_channels=8, kernel_size=5),\n",
    "            nn.MaxPool2d(kernel_size=2),\n",
    "            nn.ReLU(),\n",
    "            nn.Conv2d(in_channels=8, out_channels=16, kernel_size=5),\n",
    "            nn.MaxPool2d(kernel_size=2),\n",
    "            nn.ReLU(),\n",
    "            nn.Conv2d(in_channels=16, out_channels=32, kernel_size=3),\n",
    "            nn.MaxPool2d(kernel_size=2),\n",
    "            nn.ReLU(),\n",
    "        )\n",
    " \n",
    "    def forward(self, input: Tensor) -> Tensor:\n",
    "        feature = self.feature_extractor(input).mean(dim=[2, 3])\n",
    "        return nn.functional.normalize(feature)"
   ]
  },
  {
   "cell_type": "code",
   "execution_count": 9,
   "metadata": {},
   "outputs": [],
   "source": [
    "def train(criterion, epoch):\n",
    "    print(\"Training... Epoch = %d\" % epoch)\n",
    "    for img, label in tqdm(train_loader):\n",
    "        img, label = img.to(device), label.to(device)\n",
    "        model.zero_grad()\n",
    "        pred = model(img)\n",
    "        loss = criterion(*convert_label_to_similarity(pred, label))\n",
    "        loss.backward()\n",
    "        optimizer.step()"
   ]
  },
  {
   "cell_type": "code",
   "execution_count": 10,
   "metadata": {},
   "outputs": [
    {
     "name": "stderr",
     "output_type": "stream",
     "text": [
      "/Users/kenta_suzuki/opt/miniconda3/envs/pytorch36/lib/python3.6/site-packages/torch/optim/lr_scheduler.py:123: UserWarning: Detected call of `lr_scheduler.step()` before `optimizer.step()`. In PyTorch 1.1.0 and later, you should call them in the opposite order: `optimizer.step()` before `lr_scheduler.step()`.  Failure to do this will result in PyTorch skipping the first value of the learning rate schedule. See more details at https://pytorch.org/docs/stable/optim.html#how-to-adjust-learning-rate\n",
      "  \"https://pytorch.org/docs/stable/optim.html#how-to-adjust-learning-rate\", UserWarning)\n",
      "  0%|          | 4/938 [00:00<00:24, 37.62it/s]"
     ]
    },
    {
     "name": "stdout",
     "output_type": "stream",
     "text": [
      "Training... Epoch = 1\n"
     ]
    },
    {
     "name": "stderr",
     "output_type": "stream",
     "text": [
      "100%|██████████| 938/938 [00:16<00:00, 56.75it/s]\n",
      "  1%|          | 6/938 [00:00<00:17, 53.96it/s]"
     ]
    },
    {
     "name": "stdout",
     "output_type": "stream",
     "text": [
      "Training... Epoch = 2\n"
     ]
    },
    {
     "name": "stderr",
     "output_type": "stream",
     "text": [
      "100%|██████████| 938/938 [00:17<00:00, 54.77it/s]\n",
      "  1%|          | 6/938 [00:00<00:17, 53.51it/s]"
     ]
    },
    {
     "name": "stdout",
     "output_type": "stream",
     "text": [
      "Training... Epoch = 3\n"
     ]
    },
    {
     "name": "stderr",
     "output_type": "stream",
     "text": [
      "100%|██████████| 938/938 [00:17<00:00, 52.57it/s]\n",
      "  1%|          | 5/938 [00:00<00:18, 49.35it/s]"
     ]
    },
    {
     "name": "stdout",
     "output_type": "stream",
     "text": [
      "Training... Epoch = 4\n"
     ]
    },
    {
     "name": "stderr",
     "output_type": "stream",
     "text": [
      "100%|██████████| 938/938 [00:17<00:00, 52.12it/s]\n",
      "  1%|          | 6/938 [00:00<00:17, 53.20it/s]"
     ]
    },
    {
     "name": "stdout",
     "output_type": "stream",
     "text": [
      "Training... Epoch = 5\n"
     ]
    },
    {
     "name": "stderr",
     "output_type": "stream",
     "text": [
      "100%|██████████| 938/938 [00:17<00:00, 53.96it/s]\n",
      "  1%|          | 6/938 [00:00<00:16, 55.15it/s]"
     ]
    },
    {
     "name": "stdout",
     "output_type": "stream",
     "text": [
      "Training... Epoch = 6\n"
     ]
    },
    {
     "name": "stderr",
     "output_type": "stream",
     "text": [
      "100%|██████████| 938/938 [00:17<00:00, 53.13it/s]\n",
      "  1%|          | 6/938 [00:00<00:17, 52.93it/s]"
     ]
    },
    {
     "name": "stdout",
     "output_type": "stream",
     "text": [
      "Training... Epoch = 7\n"
     ]
    },
    {
     "name": "stderr",
     "output_type": "stream",
     "text": [
      "100%|██████████| 938/938 [00:17<00:00, 54.36it/s]\n",
      "  1%|          | 5/938 [00:00<00:18, 49.89it/s]"
     ]
    },
    {
     "name": "stdout",
     "output_type": "stream",
     "text": [
      "Training... Epoch = 8\n"
     ]
    },
    {
     "name": "stderr",
     "output_type": "stream",
     "text": [
      "100%|██████████| 938/938 [00:17<00:00, 55.14it/s]\n",
      "  1%|          | 6/938 [00:00<00:17, 53.89it/s]"
     ]
    },
    {
     "name": "stdout",
     "output_type": "stream",
     "text": [
      "Training... Epoch = 9\n"
     ]
    },
    {
     "name": "stderr",
     "output_type": "stream",
     "text": [
      "100%|██████████| 938/938 [00:16<00:00, 55.70it/s]\n",
      "  1%|          | 6/938 [00:00<00:17, 54.75it/s]"
     ]
    },
    {
     "name": "stdout",
     "output_type": "stream",
     "text": [
      "Training... Epoch = 10\n"
     ]
    },
    {
     "name": "stderr",
     "output_type": "stream",
     "text": [
      "100%|██████████| 938/938 [00:16<00:00, 55.78it/s]\n",
      "  1%|          | 6/938 [00:00<00:17, 53.31it/s]"
     ]
    },
    {
     "name": "stdout",
     "output_type": "stream",
     "text": [
      "Training... Epoch = 11\n"
     ]
    },
    {
     "name": "stderr",
     "output_type": "stream",
     "text": [
      "100%|██████████| 938/938 [00:16<00:00, 55.88it/s]\n",
      "  1%|          | 6/938 [00:00<00:17, 52.66it/s]"
     ]
    },
    {
     "name": "stdout",
     "output_type": "stream",
     "text": [
      "Training... Epoch = 12\n"
     ]
    },
    {
     "name": "stderr",
     "output_type": "stream",
     "text": [
      "100%|██████████| 938/938 [00:16<00:00, 55.44it/s]\n",
      "  1%|          | 6/938 [00:00<00:17, 53.28it/s]"
     ]
    },
    {
     "name": "stdout",
     "output_type": "stream",
     "text": [
      "Training... Epoch = 13\n"
     ]
    },
    {
     "name": "stderr",
     "output_type": "stream",
     "text": [
      "100%|██████████| 938/938 [00:16<00:00, 56.05it/s]\n",
      "  1%|          | 6/938 [00:00<00:17, 53.39it/s]"
     ]
    },
    {
     "name": "stdout",
     "output_type": "stream",
     "text": [
      "Training... Epoch = 14\n"
     ]
    },
    {
     "name": "stderr",
     "output_type": "stream",
     "text": [
      "100%|██████████| 938/938 [00:16<00:00, 55.79it/s]\n",
      "  1%|          | 6/938 [00:00<00:17, 54.51it/s]"
     ]
    },
    {
     "name": "stdout",
     "output_type": "stream",
     "text": [
      "Training... Epoch = 15\n"
     ]
    },
    {
     "name": "stderr",
     "output_type": "stream",
     "text": [
      "100%|██████████| 938/938 [00:16<00:00, 55.92it/s]\n",
      "  1%|          | 6/938 [00:00<00:17, 53.47it/s]"
     ]
    },
    {
     "name": "stdout",
     "output_type": "stream",
     "text": [
      "Training... Epoch = 16\n"
     ]
    },
    {
     "name": "stderr",
     "output_type": "stream",
     "text": [
      "100%|██████████| 938/938 [00:16<00:00, 55.97it/s]\n",
      "  1%|          | 6/938 [00:00<00:17, 51.99it/s]"
     ]
    },
    {
     "name": "stdout",
     "output_type": "stream",
     "text": [
      "Training... Epoch = 17\n"
     ]
    },
    {
     "name": "stderr",
     "output_type": "stream",
     "text": [
      "100%|██████████| 938/938 [00:16<00:00, 56.12it/s]\n",
      "  1%|          | 6/938 [00:00<00:17, 52.61it/s]"
     ]
    },
    {
     "name": "stdout",
     "output_type": "stream",
     "text": [
      "Training... Epoch = 18\n"
     ]
    },
    {
     "name": "stderr",
     "output_type": "stream",
     "text": [
      "100%|██████████| 938/938 [00:16<00:00, 56.42it/s]\n",
      "  1%|          | 6/938 [00:00<00:16, 55.92it/s]"
     ]
    },
    {
     "name": "stdout",
     "output_type": "stream",
     "text": [
      "Training... Epoch = 19\n"
     ]
    },
    {
     "name": "stderr",
     "output_type": "stream",
     "text": [
      "100%|██████████| 938/938 [00:16<00:00, 56.28it/s]\n",
      "  1%|          | 6/938 [00:00<00:16, 56.57it/s]"
     ]
    },
    {
     "name": "stdout",
     "output_type": "stream",
     "text": [
      "Training... Epoch = 20\n"
     ]
    },
    {
     "name": "stderr",
     "output_type": "stream",
     "text": [
      "100%|██████████| 938/938 [00:16<00:00, 56.32it/s]\n"
     ]
    }
   ],
   "source": [
    "# model\n",
    "model = Model().to(device)\n",
    " \n",
    "# optimzer\n",
    "optimizer = optim.SGD(model.parameters(), lr=0.001, momentum=0.9, weight_decay=1e-5)\n",
    "sheduler = lr_scheduler.StepLR(optimizer, 20, gamma=0.8)\n",
    " \n",
    "# CircleLoss\n",
    "criterion = CircleLoss(m=0.25, gamma=80).to(device)\n",
    " \n",
    "# Training\n",
    "for epoch in range(20):\n",
    "    sheduler.step()\n",
    "    train(criterion, epoch+1)"
   ]
  },
  {
   "cell_type": "code",
   "execution_count": 12,
   "metadata": {},
   "outputs": [
    {
     "name": "stderr",
     "output_type": "stream",
     "text": [
      "100%|██████████| 5000/5000 [00:03<00:00, 1387.17it/s]\n"
     ]
    }
   ],
   "source": [
    "# data loader\n",
    "val_loader = get_mnist_loader(is_train=False, batch_size=2)\n",
    " \n",
    "# 保存用\n",
    "all_features = []\n",
    "all_labels = []\n",
    " \n",
    "# 推論\n",
    "for img, label in tqdm(val_loader):\n",
    "    img, label = img.to(device), label.to(device)\n",
    "    pred = model(img)\n",
    " \n",
    "    all_features.append(pred.data.cpu().numpy())\n",
    "    all_labels.append(label.data.cpu().numpy())\n",
    "    \n",
    "# 可視化\n",
    "all_features = np.concatenate(all_features, 0)\n",
    "all_labels = np.concatenate(all_labels, 0)"
   ]
  },
  {
   "cell_type": "code",
   "execution_count": 13,
   "metadata": {},
   "outputs": [
    {
     "data": {
      "image/png": "[encoded data removed]",
      "text/plain": [
       "<Figure size 720x360 with 1 Axes>"
      ]
     },
     "metadata": {
      "needs_background": "light"
     },
     "output_type": "display_data"
    }
   ],
   "source": [
    "visualize(all_features, all_labels, 10)"
   ]
  },
  {
   "cell_type": "markdown",
   "metadata": {},
   "source": [
    "分類モデルに投入するためのデータセット作成"
   ]
  },
  {
   "cell_type": "code",
   "execution_count": 14,
   "metadata": {},
   "outputs": [],
   "source": [
    "def create_classification_dataset(loader):\n",
    "    features = []\n",
    "    labels = []\n",
    "    for img, label in tqdm(loader):\n",
    "        img, label = img.to(device), label.to(device)\n",
    "        pred = model(img)\n",
    "        \n",
    "        features.append(pred.data.cpu().numpy())\n",
    "        labels.append(label.data.cpu().numpy())\n",
    "    features = np.concatenate(features, 0)\n",
    "    labels = np.concatenate(labels, 0)\n",
    "    return features, labels"
   ]
  },
  {
   "cell_type": "code",
   "execution_count": 16,
   "metadata": {},
   "outputs": [
    {
     "name": "stderr",
     "output_type": "stream",
     "text": [
      "100%|██████████| 60000/60000 [00:34<00:00, 1722.95it/s]\n",
      "100%|██████████| 10000/10000 [00:05<00:00, 1773.95it/s]\n"
     ]
    }
   ],
   "source": [
    "train_loader = get_mnist_loader(is_train=True, batch_size=1)\n",
    "train_x, train_y = create_classification_dataset(train_loader)\n",
    "\n",
    "val_loader = get_mnist_loader(is_train=False, batch_size=1)\n",
    "valid_x, valid_y = create_classification_dataset(val_loader)"
   ]
  },
  {
   "cell_type": "code",
   "execution_count": 17,
   "metadata": {},
   "outputs": [],
   "source": [
    "from sklearn.linear_model import LogisticRegression\n",
    "from sklearn.metrics import accuracy_score"
   ]
  },
  {
   "cell_type": "code",
   "execution_count": 18,
   "metadata": {},
   "outputs": [],
   "source": [
    "clf = LogisticRegression(random_state=0).fit(train_x, train_y)"
   ]
  },
  {
   "cell_type": "code",
   "execution_count": 19,
   "metadata": {},
   "outputs": [
    {
     "name": "stdout",
     "output_type": "stream",
     "text": [
      "train acc:  0.995\n",
      "valid acc:  0.9897\n"
     ]
    }
   ],
   "source": [
    "print(\"train acc: \", accuracy_score(train_y, clf.predict(train_x)))\n",
    "print(\"valid acc: \", accuracy_score(valid_y, clf.predict(valid_x)))"
   ]
  },
  {
   "cell_type": "code",
   "execution_count": 26,
   "metadata": {},
   "outputs": [
    {
     "data": {
      "image/png": "[encoded data removed]",
      "text/plain": [
       "<Figure size 720x360 with 2 Axes>"
      ]
     },
     "metadata": {
      "needs_background": "light"
     },
     "output_type": "display_data"
    }
   ],
   "source": [
    "plt.figure(figsize=(10, 5))\n",
    "sns.heatmap(confusion_matrix(valid_y, clf.predict(valid_x), normalize='true'), annot=True, cmap='Blues', fmt='.2g')\n",
    "plt.show()"
   ]
  },
  {
   "cell_type": "code",
   "execution_count": 60,
   "metadata": {},
   "outputs": [],
   "source": [
    "train_data = lgb.Dataset(train_x, label=train_y)\n",
    "eval_data = lgb.Dataset(valid_x, label=valid_y, reference= train_data)"
   ]
  },
  {
   "cell_type": "code",
   "execution_count": 61,
   "metadata": {},
   "outputs": [],
   "source": [
    "params = {\n",
    "'task': 'train',\n",
    "'boosting_type': 'gbdt',\n",
    "'objective': 'multiclass',\n",
    "'num_class': np.unique(train_y).shape[0],\n",
    "'verbose': 2,\n",
    "}"
   ]
  },
  {
   "cell_type": "code",
   "execution_count": 65,
   "metadata": {
    "collapsed": true,
    "jupyter": {
     "outputs_hidden": true
    }
   },
   "outputs": [
    {
     "name": "stdout",
     "output_type": "stream",
     "text": [
      "[LightGBM] [Debug] Dataset::GetMultiBinFromSparseFeatures: sparse rate 0.630242\n",
      "[LightGBM] [Debug] Dataset::GetMultiBinFromAllFeatures: sparse rate 0.373858\n",
      "[LightGBM] [Debug] init for col-wise cost 0.001829 seconds, init for row-wise cost 0.009743 seconds\n",
      "[LightGBM] [Warning] Auto-choosing col-wise multi-threading, the overhead of testing was 0.011391 seconds.\n",
      "You can set `force_col_wise=true` to remove the overhead.\n",
      "[LightGBM] [Info] Total Bins 8160\n",
      "[LightGBM] [Info] Number of data points in the train set: 60000, number of used features: 32\n",
      "[LightGBM] [Info] Start training from score -2.315501\n",
      "[LightGBM] [Info] Start training from score -2.185988\n",
      "[LightGBM] [Info] Start training from score -2.309610\n",
      "[LightGBM] [Info] Start training from score -2.280987\n",
      "[LightGBM] [Info] Start training from score -2.329271\n",
      "[LightGBM] [Info] Start training from score -2.404064\n",
      "[LightGBM] [Info] Start training from score -2.316346\n",
      "[LightGBM] [Info] Start training from score -2.259366\n",
      "[LightGBM] [Info] Start training from score -2.327732\n",
      "[LightGBM] [Info] Start training from score -2.311121\n",
      "[LightGBM] [Debug] Trained a tree with leaves = 31 and max_depth = 8\n",
      "[LightGBM] [Debug] Trained a tree with leaves = 31 and max_depth = 9\n",
      "[LightGBM] [Debug] Trained a tree with leaves = 31 and max_depth = 7\n",
      "[LightGBM] [Debug] Trained a tree with leaves = 31 and max_depth = 8\n",
      "[LightGBM] [Debug] Trained a tree with leaves = 31 and max_depth = 8\n",
      "[LightGBM] [Debug] Trained a tree with leaves = 31 and max_depth = 9\n",
      "[LightGBM] [Debug] Trained a tree with leaves = 31 and max_depth = 10\n",
      "[LightGBM] [Debug] Trained a tree with leaves = 31 and max_depth = 9\n",
      "[LightGBM] [Debug] Trained a tree with leaves = 31 and max_depth = 7\n",
      "[LightGBM] [Debug] Trained a tree with leaves = 31 and max_depth = 8\n",
      "[LightGBM] [Debug] Trained a tree with leaves = 31 and max_depth = 8\n",
      "[LightGBM] [Debug] Trained a tree with leaves = 31 and max_depth = 10\n",
      "[LightGBM] [Debug] Trained a tree with leaves = 31 and max_depth = 7\n",
      "[LightGBM] [Debug] Trained a tree with leaves = 31 and max_depth = 9\n",
      "[LightGBM] [Debug] Trained a tree with leaves = 31 and max_depth = 9\n",
      "[LightGBM] [Debug] Trained a tree with leaves = 31 and max_depth = 10\n",
      "[LightGBM] [Debug] Trained a tree with leaves = 31 and max_depth = 10\n",
      "[LightGBM] [Debug] Trained a tree with leaves = 31 and max_depth = 8\n",
      "[LightGBM] [Debug] Trained a tree with leaves = 31 and max_depth = 8\n",
      "[LightGBM] [Debug] Trained a tree with leaves = 31 and max_depth = 9\n",
      "[LightGBM] [Debug] Trained a tree with leaves = 31 and max_depth = 7\n",
      "[LightGBM] [Debug] Trained a tree with leaves = 31 and max_depth = 10\n",
      "[LightGBM] [Debug] Trained a tree with leaves = 31 and max_depth = 7\n",
      "[LightGBM] [Debug] Trained a tree with leaves = 31 and max_depth = 8\n",
      "[LightGBM] [Debug] Trained a tree with leaves = 31 and max_depth = 9\n",
      "[LightGBM] [Debug] Trained a tree with leaves = 31 and max_depth = 9\n",
      "[LightGBM] [Debug] Trained a tree with leaves = 31 and max_depth = 9\n",
      "[LightGBM] [Debug] Trained a tree with leaves = 31 and max_depth = 9\n",
      "[LightGBM] [Debug] Trained a tree with leaves = 31 and max_depth = 8\n",
      "[LightGBM] [Debug] Trained a tree with leaves = 31 and max_depth = 8\n",
      "[LightGBM] [Debug] Trained a tree with leaves = 31 and max_depth = 8\n",
      "[LightGBM] [Debug] Trained a tree with leaves = 31 and max_depth = 9\n",
      "[LightGBM] [Debug] Trained a tree with leaves = 31 and max_depth = 7\n",
      "[LightGBM] [Debug] Trained a tree with leaves = 31 and max_depth = 8\n",
      "[LightGBM] [Debug] Trained a tree with leaves = 31 and max_depth = 8\n",
      "[LightGBM] [Debug] Trained a tree with leaves = 31 and max_depth = 8\n",
      "[LightGBM] [Debug] Trained a tree with leaves = 31 and max_depth = 9\n",
      "[LightGBM] [Debug] Trained a tree with leaves = 31 and max_depth = 9\n",
      "[LightGBM] [Debug] Trained a tree with leaves = 31 and max_depth = 8\n",
      "[LightGBM] [Debug] Trained a tree with leaves = 31 and max_depth = 10\n",
      "[LightGBM] [Debug] Trained a tree with leaves = 31 and max_depth = 7\n",
      "[LightGBM] [Debug] Trained a tree with leaves = 31 and max_depth = 11\n",
      "[LightGBM] [Debug] Trained a tree with leaves = 31 and max_depth = 7\n",
      "[LightGBM] [Debug] Trained a tree with leaves = 31 and max_depth = 8\n",
      "[LightGBM] [Debug] Trained a tree with leaves = 31 and max_depth = 8\n",
      "[LightGBM] [Debug] Trained a tree with leaves = 31 and max_depth = 9\n",
      "[LightGBM] [Debug] Trained a tree with leaves = 31 and max_depth = 10\n",
      "[LightGBM] [Debug] Trained a tree with leaves = 31 and max_depth = 9\n",
      "[LightGBM] [Debug] Trained a tree with leaves = 31 and max_depth = 8\n",
      "[LightGBM] [Debug] Trained a tree with leaves = 31 and max_depth = 8\n",
      "[5]\tvalid_0's multi_logloss: 0.622589\n",
      "[LightGBM] [Debug] Trained a tree with leaves = 31 and max_depth = 8\n",
      "[LightGBM] [Debug] Trained a tree with leaves = 31 and max_depth = 9\n",
      "[LightGBM] [Debug] Trained a tree with leaves = 31 and max_depth = 7\n",
      "[LightGBM] [Debug] Trained a tree with leaves = 31 and max_depth = 8\n",
      "[LightGBM] [Debug] Trained a tree with leaves = 31 and max_depth = 7\n",
      "[LightGBM] [Debug] Trained a tree with leaves = 31 and max_depth = 10\n",
      "[LightGBM] [Debug] Trained a tree with leaves = 31 and max_depth = 9\n",
      "[LightGBM] [Debug] Trained a tree with leaves = 31 and max_depth = 8\n",
      "[LightGBM] [Debug] Trained a tree with leaves = 31 and max_depth = 8\n",
      "[LightGBM] [Debug] Trained a tree with leaves = 31 and max_depth = 8\n",
      "[LightGBM] [Debug] Trained a tree with leaves = 31 and max_depth = 8\n",
      "[LightGBM] [Debug] Trained a tree with leaves = 31 and max_depth = 10\n",
      "[LightGBM] [Debug] Trained a tree with leaves = 31 and max_depth = 7\n",
      "[LightGBM] [Debug] Trained a tree with leaves = 31 and max_depth = 8\n",
      "[LightGBM] [Debug] Trained a tree with leaves = 31 and max_depth = 7\n",
      "[LightGBM] [Debug] Trained a tree with leaves = 31 and max_depth = 9\n",
      "[LightGBM] [Debug] Trained a tree with leaves = 31 and max_depth = 9\n",
      "[LightGBM] [Debug] Trained a tree with leaves = 31 and max_depth = 9\n",
      "[LightGBM] [Debug] Trained a tree with leaves = 31 and max_depth = 9\n",
      "[LightGBM] [Debug] Trained a tree with leaves = 31 and max_depth = 8\n",
      "[LightGBM] [Debug] Trained a tree with leaves = 31 and max_depth = 8\n",
      "[LightGBM] [Debug] Trained a tree with leaves = 31 and max_depth = 9\n",
      "[LightGBM] [Debug] Trained a tree with leaves = 31 and max_depth = 8\n",
      "[LightGBM] [Debug] Trained a tree with leaves = 31 and max_depth = 8\n",
      "[LightGBM] [Debug] Trained a tree with leaves = 31 and max_depth = 7\n",
      "[LightGBM] [Debug] Trained a tree with leaves = 31 and max_depth = 8\n",
      "[LightGBM] [Debug] Trained a tree with leaves = 31 and max_depth = 8\n",
      "[LightGBM] [Debug] Trained a tree with leaves = 31 and max_depth = 8\n",
      "[LightGBM] [Debug] Trained a tree with leaves = 31 and max_depth = 8\n",
      "[LightGBM] [Debug] Trained a tree with leaves = 31 and max_depth = 8\n",
      "[LightGBM] [Debug] Trained a tree with leaves = 31 and max_depth = 8\n",
      "[LightGBM] [Debug] Trained a tree with leaves = 31 and max_depth = 9\n",
      "[LightGBM] [Debug] Trained a tree with leaves = 31 and max_depth = 8\n",
      "[LightGBM] [Debug] Trained a tree with leaves = 31 and max_depth = 8\n",
      "[LightGBM] [Debug] Trained a tree with leaves = 31 and max_depth = 7\n",
      "[LightGBM] [Debug] Trained a tree with leaves = 31 and max_depth = 11\n",
      "[LightGBM] [Debug] Trained a tree with leaves = 31 and max_depth = 7\n",
      "[LightGBM] [Debug] Trained a tree with leaves = 31 and max_depth = 8\n",
      "[LightGBM] [Debug] Trained a tree with leaves = 31 and max_depth = 8\n",
      "[LightGBM] [Debug] Trained a tree with leaves = 31 and max_depth = 7\n",
      "[LightGBM] [Debug] Trained a tree with leaves = 31 and max_depth = 7\n",
      "[LightGBM] [Debug] Trained a tree with leaves = 31 and max_depth = 8\n",
      "[LightGBM] [Debug] Trained a tree with leaves = 31 and max_depth = 7\n",
      "[LightGBM] [Debug] Trained a tree with leaves = 31 and max_depth = 7\n",
      "[LightGBM] [Debug] Trained a tree with leaves = 31 and max_depth = 8\n",
      "[LightGBM] [Debug] Trained a tree with leaves = 31 and max_depth = 7\n",
      "[LightGBM] [Debug] Trained a tree with leaves = 31 and max_depth = 8\n",
      "[LightGBM] [Debug] Trained a tree with leaves = 31 and max_depth = 8\n",
      "[LightGBM] [Debug] Trained a tree with leaves = 31 and max_depth = 9\n",
      "[LightGBM] [Debug] Trained a tree with leaves = 31 and max_depth = 9\n",
      "[10]\tvalid_0's multi_logloss: 0.269522\n",
      "[LightGBM] [Debug] Trained a tree with leaves = 31 and max_depth = 8\n",
      "[LightGBM] [Debug] Trained a tree with leaves = 31 and max_depth = 8\n",
      "[LightGBM] [Debug] Trained a tree with leaves = 31 and max_depth = 8\n",
      "[LightGBM] [Debug] Trained a tree with leaves = 31 and max_depth = 8\n",
      "[LightGBM] [Debug] Trained a tree with leaves = 31 and max_depth = 7\n",
      "[LightGBM] [Debug] Trained a tree with leaves = 31 and max_depth = 9\n",
      "[LightGBM] [Debug] Trained a tree with leaves = 31 and max_depth = 8\n",
      "[LightGBM] [Debug] Trained a tree with leaves = 31 and max_depth = 8\n",
      "[LightGBM] [Debug] Trained a tree with leaves = 31 and max_depth = 9\n",
      "[LightGBM] [Debug] Trained a tree with leaves = 31 and max_depth = 11\n",
      "[LightGBM] [Debug] Trained a tree with leaves = 31 and max_depth = 8\n",
      "[LightGBM] [Debug] Trained a tree with leaves = 31 and max_depth = 7\n",
      "[LightGBM] [Debug] Trained a tree with leaves = 31 and max_depth = 8\n",
      "[LightGBM] [Debug] Trained a tree with leaves = 31 and max_depth = 8\n",
      "[LightGBM] [Debug] Trained a tree with leaves = 31 and max_depth = 7\n",
      "[LightGBM] [Debug] Trained a tree with leaves = 31 and max_depth = 11\n",
      "[LightGBM] [Debug] Trained a tree with leaves = 31 and max_depth = 9\n",
      "[LightGBM] [Debug] Trained a tree with leaves = 31 and max_depth = 9\n",
      "[LightGBM] [Debug] Trained a tree with leaves = 31 and max_depth = 8\n",
      "[LightGBM] [Debug] Trained a tree with leaves = 31 and max_depth = 9\n",
      "[LightGBM] [Debug] Trained a tree with leaves = 31 and max_depth = 7\n",
      "[LightGBM] [Debug] Trained a tree with leaves = 31 and max_depth = 8\n",
      "[LightGBM] [Debug] Trained a tree with leaves = 31 and max_depth = 8\n",
      "[LightGBM] [Debug] Trained a tree with leaves = 31 and max_depth = 8\n",
      "[LightGBM] [Debug] Trained a tree with leaves = 31 and max_depth = 8\n",
      "[LightGBM] [Debug] Trained a tree with leaves = 31 and max_depth = 10\n",
      "[LightGBM] [Debug] Trained a tree with leaves = 31 and max_depth = 8\n",
      "[LightGBM] [Debug] Trained a tree with leaves = 31 and max_depth = 8\n",
      "[LightGBM] [Debug] Trained a tree with leaves = 31 and max_depth = 8\n",
      "[LightGBM] [Debug] Trained a tree with leaves = 31 and max_depth = 9\n",
      "[LightGBM] [Debug] Trained a tree with leaves = 31 and max_depth = 7\n",
      "[LightGBM] [Debug] Trained a tree with leaves = 31 and max_depth = 8\n",
      "[LightGBM] [Debug] Trained a tree with leaves = 31 and max_depth = 9\n",
      "[LightGBM] [Debug] Trained a tree with leaves = 31 and max_depth = 8\n",
      "[LightGBM] [Debug] Trained a tree with leaves = 31 and max_depth = 7\n",
      "[LightGBM] [Debug] Trained a tree with leaves = 31 and max_depth = 10\n",
      "[LightGBM] [Debug] Trained a tree with leaves = 31 and max_depth = 10\n",
      "[LightGBM] [Debug] Trained a tree with leaves = 31 and max_depth = 8\n",
      "[LightGBM] [Debug] Trained a tree with leaves = 31 and max_depth = 8\n",
      "[LightGBM] [Debug] Trained a tree with leaves = 31 and max_depth = 9\n",
      "[LightGBM] [Debug] Trained a tree with leaves = 31 and max_depth = 8\n",
      "[LightGBM] [Debug] Trained a tree with leaves = 31 and max_depth = 8\n",
      "[LightGBM] [Debug] Trained a tree with leaves = 31 and max_depth = 9\n",
      "[LightGBM] [Debug] Trained a tree with leaves = 31 and max_depth = 8\n",
      "[LightGBM] [Debug] Trained a tree with leaves = 31 and max_depth = 9\n",
      "[LightGBM] [Debug] Trained a tree with leaves = 31 and max_depth = 9\n",
      "[LightGBM] [Debug] Trained a tree with leaves = 31 and max_depth = 7\n",
      "[LightGBM] [Debug] Trained a tree with leaves = 31 and max_depth = 8\n",
      "[LightGBM] [Debug] Trained a tree with leaves = 31 and max_depth = 8\n",
      "[LightGBM] [Debug] Trained a tree with leaves = 31 and max_depth = 9\n",
      "[15]\tvalid_0's multi_logloss: 0.134958\n",
      "[LightGBM] [Debug] Trained a tree with leaves = 31 and max_depth = 8\n",
      "[LightGBM] [Debug] Trained a tree with leaves = 31 and max_depth = 7\n",
      "[LightGBM] [Debug] Trained a tree with leaves = 31 and max_depth = 9\n",
      "[LightGBM] [Debug] Trained a tree with leaves = 31 and max_depth = 8\n",
      "[LightGBM] [Debug] Trained a tree with leaves = 31 and max_depth = 9\n",
      "[LightGBM] [Debug] Trained a tree with leaves = 31 and max_depth = 11\n",
      "[LightGBM] [Debug] Trained a tree with leaves = 31 and max_depth = 10\n",
      "[LightGBM] [Debug] Trained a tree with leaves = 31 and max_depth = 8\n",
      "[LightGBM] [Debug] Trained a tree with leaves = 31 and max_depth = 8\n",
      "[LightGBM] [Debug] Trained a tree with leaves = 31 and max_depth = 10\n",
      "[LightGBM] [Debug] Trained a tree with leaves = 31 and max_depth = 7\n",
      "[LightGBM] [Debug] Trained a tree with leaves = 31 and max_depth = 7\n",
      "[LightGBM] [Debug] Trained a tree with leaves = 31 and max_depth = 9\n",
      "[LightGBM] [Debug] Trained a tree with leaves = 31 and max_depth = 8\n",
      "[LightGBM] [Debug] Trained a tree with leaves = 31 and max_depth = 7\n",
      "[LightGBM] [Debug] Trained a tree with leaves = 31 and max_depth = 8\n",
      "[LightGBM] [Debug] Trained a tree with leaves = 31 and max_depth = 8\n",
      "[LightGBM] [Debug] Trained a tree with leaves = 31 and max_depth = 7\n",
      "[LightGBM] [Debug] Trained a tree with leaves = 31 and max_depth = 8\n",
      "[LightGBM] [Debug] Trained a tree with leaves = 31 and max_depth = 7\n",
      "[LightGBM] [Debug] Trained a tree with leaves = 31 and max_depth = 8\n",
      "[LightGBM] [Debug] Trained a tree with leaves = 31 and max_depth = 7\n",
      "[LightGBM] [Debug] Trained a tree with leaves = 31 and max_depth = 8\n",
      "[LightGBM] [Debug] Trained a tree with leaves = 31 and max_depth = 9\n",
      "[LightGBM] [Debug] Trained a tree with leaves = 31 and max_depth = 8\n",
      "[LightGBM] [Debug] Trained a tree with leaves = 31 and max_depth = 9\n",
      "[LightGBM] [Debug] Trained a tree with leaves = 31 and max_depth = 8\n",
      "[LightGBM] [Debug] Trained a tree with leaves = 31 and max_depth = 8\n",
      "[LightGBM] [Debug] Trained a tree with leaves = 31 and max_depth = 8\n",
      "[LightGBM] [Debug] Trained a tree with leaves = 31 and max_depth = 9\n",
      "[LightGBM] [Debug] Trained a tree with leaves = 31 and max_depth = 7\n",
      "[LightGBM] [Debug] Trained a tree with leaves = 31 and max_depth = 8\n",
      "[LightGBM] [Debug] Trained a tree with leaves = 31 and max_depth = 8\n",
      "[LightGBM] [Debug] Trained a tree with leaves = 31 and max_depth = 8\n",
      "[LightGBM] [Debug] Trained a tree with leaves = 31 and max_depth = 10\n",
      "[LightGBM] [Debug] Trained a tree with leaves = 31 and max_depth = 8\n",
      "[LightGBM] [Debug] Trained a tree with leaves = 31 and max_depth = 7\n",
      "[LightGBM] [Debug] Trained a tree with leaves = 31 and max_depth = 7\n",
      "[LightGBM] [Debug] Trained a tree with leaves = 31 and max_depth = 9\n",
      "[LightGBM] [Debug] Trained a tree with leaves = 31 and max_depth = 10\n",
      "[LightGBM] [Debug] Trained a tree with leaves = 31 and max_depth = 9\n",
      "[LightGBM] [Debug] Trained a tree with leaves = 31 and max_depth = 7\n",
      "[LightGBM] [Debug] Trained a tree with leaves = 31 and max_depth = 9\n",
      "[LightGBM] [Debug] Trained a tree with leaves = 31 and max_depth = 11\n",
      "[LightGBM] [Debug] Trained a tree with leaves = 31 and max_depth = 8\n",
      "[LightGBM] [Debug] Trained a tree with leaves = 31 and max_depth = 9\n",
      "[LightGBM] [Debug] Trained a tree with leaves = 31 and max_depth = 8\n",
      "[LightGBM] [Debug] Trained a tree with leaves = 31 and max_depth = 7\n",
      "[LightGBM] [Debug] Trained a tree with leaves = 31 and max_depth = 10\n",
      "[LightGBM] [Debug] Trained a tree with leaves = 31 and max_depth = 11\n",
      "[20]\tvalid_0's multi_logloss: 0.0804979\n",
      "[LightGBM] [Debug] Trained a tree with leaves = 31 and max_depth = 9\n",
      "[LightGBM] [Debug] Trained a tree with leaves = 31 and max_depth = 8\n",
      "[LightGBM] [Debug] Trained a tree with leaves = 31 and max_depth = 9\n",
      "[LightGBM] [Debug] Trained a tree with leaves = 31 and max_depth = 8\n",
      "[LightGBM] [Debug] Trained a tree with leaves = 31 and max_depth = 7\n",
      "[LightGBM] [Debug] Trained a tree with leaves = 31 and max_depth = 7\n",
      "[LightGBM] [Debug] Trained a tree with leaves = 31 and max_depth = 8\n",
      "[LightGBM] [Debug] Trained a tree with leaves = 31 and max_depth = 8\n",
      "[LightGBM] [Debug] Trained a tree with leaves = 31 and max_depth = 9\n",
      "[LightGBM] [Debug] Trained a tree with leaves = 31 and max_depth = 10\n",
      "[LightGBM] [Debug] Trained a tree with leaves = 31 and max_depth = 7\n",
      "[LightGBM] [Debug] Trained a tree with leaves = 31 and max_depth = 8\n",
      "[LightGBM] [Debug] Trained a tree with leaves = 31 and max_depth = 9\n",
      "[LightGBM] [Debug] Trained a tree with leaves = 31 and max_depth = 8\n",
      "[LightGBM] [Debug] Trained a tree with leaves = 31 and max_depth = 8\n",
      "[LightGBM] [Debug] Trained a tree with leaves = 31 and max_depth = 7\n",
      "[LightGBM] [Debug] Trained a tree with leaves = 31 and max_depth = 8\n",
      "[LightGBM] [Debug] Trained a tree with leaves = 31 and max_depth = 8\n",
      "[LightGBM] [Debug] Trained a tree with leaves = 31 and max_depth = 9\n",
      "[LightGBM] [Debug] Trained a tree with leaves = 31 and max_depth = 10\n",
      "[LightGBM] [Debug] Trained a tree with leaves = 31 and max_depth = 8\n",
      "[LightGBM] [Debug] Trained a tree with leaves = 31 and max_depth = 8\n",
      "[LightGBM] [Debug] Trained a tree with leaves = 31 and max_depth = 7\n",
      "[LightGBM] [Debug] Trained a tree with leaves = 31 and max_depth = 8\n",
      "[LightGBM] [Debug] Trained a tree with leaves = 31 and max_depth = 8\n",
      "[LightGBM] [Debug] Trained a tree with leaves = 31 and max_depth = 7\n",
      "[LightGBM] [Debug] Trained a tree with leaves = 31 and max_depth = 7\n",
      "[LightGBM] [Debug] Trained a tree with leaves = 31 and max_depth = 7\n",
      "[LightGBM] [Debug] Trained a tree with leaves = 31 and max_depth = 8\n",
      "[LightGBM] [Debug] Trained a tree with leaves = 31 and max_depth = 10\n",
      "[LightGBM] [Debug] Trained a tree with leaves = 31 and max_depth = 8\n",
      "[LightGBM] [Debug] Trained a tree with leaves = 31 and max_depth = 8\n",
      "[LightGBM] [Debug] Trained a tree with leaves = 31 and max_depth = 8\n",
      "[LightGBM] [Debug] Trained a tree with leaves = 31 and max_depth = 8\n",
      "[LightGBM] [Debug] Trained a tree with leaves = 31 and max_depth = 9\n",
      "[LightGBM] [Debug] Trained a tree with leaves = 31 and max_depth = 7\n",
      "[LightGBM] [Debug] Trained a tree with leaves = 31 and max_depth = 8\n",
      "[LightGBM] [Debug] Trained a tree with leaves = 31 and max_depth = 8\n",
      "[LightGBM] [Debug] Trained a tree with leaves = 31 and max_depth = 8\n",
      "[LightGBM] [Debug] Trained a tree with leaves = 31 and max_depth = 8\n",
      "[LightGBM] [Debug] Trained a tree with leaves = 31 and max_depth = 7\n",
      "[LightGBM] [Debug] Trained a tree with leaves = 31 and max_depth = 9\n",
      "[LightGBM] [Debug] Trained a tree with leaves = 31 and max_depth = 7\n",
      "[LightGBM] [Debug] Trained a tree with leaves = 31 and max_depth = 8\n",
      "[LightGBM] [Debug] Trained a tree with leaves = 31 and max_depth = 9\n",
      "[LightGBM] [Debug] Trained a tree with leaves = 31 and max_depth = 9\n",
      "[LightGBM] [Debug] Trained a tree with leaves = 31 and max_depth = 8\n",
      "[LightGBM] [Debug] Trained a tree with leaves = 31 and max_depth = 7\n",
      "[LightGBM] [Debug] Trained a tree with leaves = 31 and max_depth = 9\n",
      "[LightGBM] [Debug] Trained a tree with leaves = 31 and max_depth = 10\n",
      "[25]\tvalid_0's multi_logloss: 0.0581051\n",
      "[LightGBM] [Debug] Trained a tree with leaves = 31 and max_depth = 7\n",
      "[LightGBM] [Debug] Trained a tree with leaves = 31 and max_depth = 8\n",
      "[LightGBM] [Debug] Trained a tree with leaves = 31 and max_depth = 8\n",
      "[LightGBM] [Debug] Trained a tree with leaves = 31 and max_depth = 8\n",
      "[LightGBM] [Debug] Trained a tree with leaves = 31 and max_depth = 8\n",
      "[LightGBM] [Debug] Trained a tree with leaves = 31 and max_depth = 9\n",
      "[LightGBM] [Debug] Trained a tree with leaves = 31 and max_depth = 8\n",
      "[LightGBM] [Debug] Trained a tree with leaves = 31 and max_depth = 8\n",
      "[LightGBM] [Debug] Trained a tree with leaves = 31 and max_depth = 8\n",
      "[LightGBM] [Debug] Trained a tree with leaves = 31 and max_depth = 9\n",
      "[LightGBM] [Debug] Trained a tree with leaves = 31 and max_depth = 7\n",
      "[LightGBM] [Debug] Trained a tree with leaves = 31 and max_depth = 7\n",
      "[LightGBM] [Debug] Trained a tree with leaves = 31 and max_depth = 8\n",
      "[LightGBM] [Debug] Trained a tree with leaves = 31 and max_depth = 7\n",
      "[LightGBM] [Debug] Trained a tree with leaves = 31 and max_depth = 11\n",
      "[LightGBM] [Debug] Trained a tree with leaves = 31 and max_depth = 8\n",
      "[LightGBM] [Debug] Trained a tree with leaves = 31 and max_depth = 9\n",
      "[LightGBM] [Debug] Trained a tree with leaves = 31 and max_depth = 8\n",
      "[LightGBM] [Debug] Trained a tree with leaves = 31 and max_depth = 8\n",
      "[LightGBM] [Debug] Trained a tree with leaves = 31 and max_depth = 9\n",
      "[LightGBM] [Debug] Trained a tree with leaves = 31 and max_depth = 8\n",
      "[LightGBM] [Debug] Trained a tree with leaves = 31 and max_depth = 9\n",
      "[LightGBM] [Debug] Trained a tree with leaves = 31 and max_depth = 7\n",
      "[LightGBM] [Debug] Trained a tree with leaves = 31 and max_depth = 9\n",
      "[LightGBM] [Debug] Trained a tree with leaves = 31 and max_depth = 8\n",
      "[LightGBM] [Debug] Trained a tree with leaves = 31 and max_depth = 8\n",
      "[LightGBM] [Debug] Trained a tree with leaves = 31 and max_depth = 8\n",
      "[LightGBM] [Debug] Trained a tree with leaves = 31 and max_depth = 8\n",
      "[LightGBM] [Debug] Trained a tree with leaves = 31 and max_depth = 9\n",
      "[LightGBM] [Debug] Trained a tree with leaves = 31 and max_depth = 9\n",
      "[LightGBM] [Debug] Trained a tree with leaves = 31 and max_depth = 8\n",
      "[LightGBM] [Debug] Trained a tree with leaves = 31 and max_depth = 9\n",
      "[LightGBM] [Debug] Trained a tree with leaves = 31 and max_depth = 8\n",
      "[LightGBM] [Debug] Trained a tree with leaves = 31 and max_depth = 8\n",
      "[LightGBM] [Debug] Trained a tree with leaves = 31 and max_depth = 8\n",
      "[LightGBM] [Debug] Trained a tree with leaves = 31 and max_depth = 9\n",
      "[LightGBM] [Debug] Trained a tree with leaves = 31 and max_depth = 7\n",
      "[LightGBM] [Debug] Trained a tree with leaves = 31 and max_depth = 8\n",
      "[LightGBM] [Debug] Trained a tree with leaves = 31 and max_depth = 8\n",
      "[LightGBM] [Debug] Trained a tree with leaves = 31 and max_depth = 9\n",
      "[LightGBM] [Debug] Trained a tree with leaves = 31 and max_depth = 8\n",
      "[LightGBM] [Debug] Trained a tree with leaves = 31 and max_depth = 8\n",
      "[LightGBM] [Debug] Trained a tree with leaves = 31 and max_depth = 8\n",
      "[LightGBM] [Debug] Trained a tree with leaves = 31 and max_depth = 8\n",
      "[LightGBM] [Debug] Trained a tree with leaves = 31 and max_depth = 7\n",
      "[LightGBM] [Debug] Trained a tree with leaves = 31 and max_depth = 7\n",
      "[LightGBM] [Debug] Trained a tree with leaves = 31 and max_depth = 9\n",
      "[LightGBM] [Debug] Trained a tree with leaves = 31 and max_depth = 9\n",
      "[LightGBM] [Debug] Trained a tree with leaves = 31 and max_depth = 8\n",
      "[LightGBM] [Debug] Trained a tree with leaves = 31 and max_depth = 9\n",
      "[30]\tvalid_0's multi_logloss: 0.0492383\n",
      "[LightGBM] [Debug] Trained a tree with leaves = 31 and max_depth = 9\n",
      "[LightGBM] [Debug] Trained a tree with leaves = 31 and max_depth = 8\n",
      "[LightGBM] [Debug] Trained a tree with leaves = 31 and max_depth = 9\n",
      "[LightGBM] [Debug] Trained a tree with leaves = 31 and max_depth = 9\n",
      "[LightGBM] [Debug] Trained a tree with leaves = 31 and max_depth = 8\n",
      "[LightGBM] [Debug] Trained a tree with leaves = 31 and max_depth = 8\n",
      "[LightGBM] [Debug] Trained a tree with leaves = 31 and max_depth = 8\n",
      "[LightGBM] [Debug] Trained a tree with leaves = 31 and max_depth = 11\n",
      "[LightGBM] [Debug] Trained a tree with leaves = 31 and max_depth = 10\n",
      "[LightGBM] [Debug] Trained a tree with leaves = 31 and max_depth = 9\n",
      "[LightGBM] [Debug] Trained a tree with leaves = 31 and max_depth = 8\n",
      "[LightGBM] [Debug] Trained a tree with leaves = 31 and max_depth = 9\n",
      "[LightGBM] [Debug] Trained a tree with leaves = 31 and max_depth = 7\n",
      "[LightGBM] [Debug] Trained a tree with leaves = 31 and max_depth = 8\n",
      "[LightGBM] [Debug] Trained a tree with leaves = 31 and max_depth = 7\n",
      "[LightGBM] [Debug] Trained a tree with leaves = 31 and max_depth = 10\n",
      "[LightGBM] [Debug] Trained a tree with leaves = 31 and max_depth = 8\n",
      "[LightGBM] [Debug] Trained a tree with leaves = 31 and max_depth = 8\n",
      "[LightGBM] [Debug] Trained a tree with leaves = 31 and max_depth = 9\n",
      "[LightGBM] [Debug] Trained a tree with leaves = 31 and max_depth = 9\n",
      "[LightGBM] [Debug] Trained a tree with leaves = 31 and max_depth = 6\n",
      "[LightGBM] [Debug] Trained a tree with leaves = 31 and max_depth = 10\n",
      "[LightGBM] [Debug] Trained a tree with leaves = 31 and max_depth = 7\n",
      "[LightGBM] [Debug] Trained a tree with leaves = 31 and max_depth = 8\n",
      "[LightGBM] [Debug] Trained a tree with leaves = 31 and max_depth = 8\n",
      "[LightGBM] [Debug] Trained a tree with leaves = 31 and max_depth = 10\n",
      "[LightGBM] [Debug] Trained a tree with leaves = 31 and max_depth = 7\n",
      "[LightGBM] [Debug] Trained a tree with leaves = 31 and max_depth = 10\n",
      "[LightGBM] [Debug] Trained a tree with leaves = 31 and max_depth = 9\n",
      "[LightGBM] [Debug] Trained a tree with leaves = 31 and max_depth = 9\n",
      "[LightGBM] [Debug] Trained a tree with leaves = 31 and max_depth = 8\n",
      "[LightGBM] [Debug] Trained a tree with leaves = 31 and max_depth = 7\n",
      "[LightGBM] [Debug] Trained a tree with leaves = 31 and max_depth = 8\n",
      "[LightGBM] [Debug] Trained a tree with leaves = 31 and max_depth = 8\n",
      "[LightGBM] [Debug] Trained a tree with leaves = 31 and max_depth = 8\n",
      "[LightGBM] [Debug] Trained a tree with leaves = 31 and max_depth = 8\n",
      "[LightGBM] [Debug] Trained a tree with leaves = 31 and max_depth = 8\n",
      "[LightGBM] [Debug] Trained a tree with leaves = 31 and max_depth = 9\n",
      "[LightGBM] [Debug] Trained a tree with leaves = 31 and max_depth = 9\n",
      "[LightGBM] [Debug] Trained a tree with leaves = 31 and max_depth = 12\n",
      "[LightGBM] [Debug] Trained a tree with leaves = 31 and max_depth = 7\n",
      "[LightGBM] [Debug] Trained a tree with leaves = 31 and max_depth = 8\n",
      "[LightGBM] [Debug] Trained a tree with leaves = 31 and max_depth = 8\n",
      "[LightGBM] [Debug] Trained a tree with leaves = 31 and max_depth = 8\n",
      "[LightGBM] [Debug] Trained a tree with leaves = 31 and max_depth = 7\n",
      "[LightGBM] [Debug] Trained a tree with leaves = 31 and max_depth = 10\n",
      "[LightGBM] [Debug] Trained a tree with leaves = 31 and max_depth = 7\n",
      "[LightGBM] [Debug] Trained a tree with leaves = 31 and max_depth = 9\n",
      "[LightGBM] [Debug] Trained a tree with leaves = 31 and max_depth = 7\n",
      "[LightGBM] [Debug] Trained a tree with leaves = 31 and max_depth = 9\n",
      "[35]\tvalid_0's multi_logloss: 0.046355\n",
      "[LightGBM] [Debug] Trained a tree with leaves = 31 and max_depth = 8\n",
      "[LightGBM] [Debug] Trained a tree with leaves = 31 and max_depth = 10\n",
      "[LightGBM] [Debug] Trained a tree with leaves = 31 and max_depth = 7\n",
      "[LightGBM] [Debug] Trained a tree with leaves = 31 and max_depth = 9\n",
      "[LightGBM] [Debug] Trained a tree with leaves = 31 and max_depth = 8\n",
      "[LightGBM] [Debug] Trained a tree with leaves = 31 and max_depth = 8\n",
      "[LightGBM] [Debug] Trained a tree with leaves = 31 and max_depth = 8\n",
      "[LightGBM] [Debug] Trained a tree with leaves = 31 and max_depth = 9\n",
      "[LightGBM] [Debug] Trained a tree with leaves = 31 and max_depth = 9\n",
      "[LightGBM] [Debug] Trained a tree with leaves = 31 and max_depth = 9\n",
      "[LightGBM] [Debug] Trained a tree with leaves = 31 and max_depth = 8\n",
      "[LightGBM] [Debug] Trained a tree with leaves = 31 and max_depth = 8\n",
      "[LightGBM] [Debug] Trained a tree with leaves = 31 and max_depth = 8\n",
      "[LightGBM] [Debug] Trained a tree with leaves = 31 and max_depth = 9\n",
      "[LightGBM] [Debug] Trained a tree with leaves = 31 and max_depth = 10\n",
      "[LightGBM] [Debug] Trained a tree with leaves = 31 and max_depth = 7\n",
      "[LightGBM] [Debug] Trained a tree with leaves = 31 and max_depth = 9\n",
      "[LightGBM] [Debug] Trained a tree with leaves = 31 and max_depth = 11\n",
      "[LightGBM] [Debug] Trained a tree with leaves = 31 and max_depth = 11\n",
      "[LightGBM] [Debug] Trained a tree with leaves = 31 and max_depth = 12\n",
      "[LightGBM] [Debug] Trained a tree with leaves = 31 and max_depth = 9\n",
      "[LightGBM] [Debug] Trained a tree with leaves = 31 and max_depth = 8\n",
      "[LightGBM] [Debug] Trained a tree with leaves = 31 and max_depth = 8\n",
      "[LightGBM] [Debug] Trained a tree with leaves = 31 and max_depth = 10\n",
      "[LightGBM] [Debug] Trained a tree with leaves = 31 and max_depth = 10\n",
      "[LightGBM] [Debug] Trained a tree with leaves = 31 and max_depth = 8\n",
      "[LightGBM] [Debug] Trained a tree with leaves = 31 and max_depth = 9\n",
      "[LightGBM] [Debug] Trained a tree with leaves = 31 and max_depth = 9\n",
      "[LightGBM] [Debug] Trained a tree with leaves = 31 and max_depth = 7\n",
      "[LightGBM] [Debug] Trained a tree with leaves = 31 and max_depth = 11\n",
      "[LightGBM] [Debug] Trained a tree with leaves = 31 and max_depth = 8\n",
      "[LightGBM] [Debug] Trained a tree with leaves = 31 and max_depth = 10\n",
      "[LightGBM] [Debug] Trained a tree with leaves = 31 and max_depth = 9\n",
      "[LightGBM] [Debug] Trained a tree with leaves = 31 and max_depth = 11\n",
      "[LightGBM] [Debug] Trained a tree with leaves = 31 and max_depth = 11\n",
      "[LightGBM] [Debug] Trained a tree with leaves = 31 and max_depth = 9\n",
      "[LightGBM] [Debug] Trained a tree with leaves = 31 and max_depth = 9\n",
      "[LightGBM] [Debug] Trained a tree with leaves = 31 and max_depth = 9\n",
      "[LightGBM] [Debug] Trained a tree with leaves = 31 and max_depth = 8\n",
      "[LightGBM] [Debug] Trained a tree with leaves = 31 and max_depth = 11\n",
      "[LightGBM] [Debug] Trained a tree with leaves = 31 and max_depth = 9\n",
      "[LightGBM] [Debug] Trained a tree with leaves = 31 and max_depth = 9\n",
      "[LightGBM] [Debug] Trained a tree with leaves = 31 and max_depth = 9\n",
      "[LightGBM] [Debug] Trained a tree with leaves = 31 and max_depth = 10\n",
      "[LightGBM] [Debug] Trained a tree with leaves = 31 and max_depth = 7\n",
      "[LightGBM] [Debug] Trained a tree with leaves = 31 and max_depth = 10\n",
      "[LightGBM] [Debug] Trained a tree with leaves = 31 and max_depth = 9\n",
      "[LightGBM] [Debug] Trained a tree with leaves = 31 and max_depth = 9\n",
      "[LightGBM] [Debug] Trained a tree with leaves = 31 and max_depth = 8\n",
      "[LightGBM] [Debug] Trained a tree with leaves = 31 and max_depth = 10\n",
      "[40]\tvalid_0's multi_logloss: 0.0454539\n",
      "[LightGBM] [Debug] Trained a tree with leaves = 31 and max_depth = 7\n",
      "[LightGBM] [Debug] Trained a tree with leaves = 31 and max_depth = 7\n",
      "[LightGBM] [Debug] Trained a tree with leaves = 31 and max_depth = 9\n",
      "[LightGBM] [Debug] Trained a tree with leaves = 31 and max_depth = 9\n",
      "[LightGBM] [Debug] Trained a tree with leaves = 31 and max_depth = 11\n",
      "[LightGBM] [Debug] Trained a tree with leaves = 31 and max_depth = 10\n",
      "[LightGBM] [Debug] Trained a tree with leaves = 31 and max_depth = 8\n",
      "[LightGBM] [Debug] Trained a tree with leaves = 31 and max_depth = 11\n",
      "[LightGBM] [Debug] Trained a tree with leaves = 31 and max_depth = 7\n",
      "[LightGBM] [Debug] Trained a tree with leaves = 31 and max_depth = 8\n",
      "[LightGBM] [Debug] Trained a tree with leaves = 31 and max_depth = 8\n",
      "[LightGBM] [Debug] Trained a tree with leaves = 31 and max_depth = 10\n",
      "[LightGBM] [Debug] Trained a tree with leaves = 31 and max_depth = 8\n",
      "[LightGBM] [Debug] Trained a tree with leaves = 31 and max_depth = 10\n",
      "[LightGBM] [Debug] Trained a tree with leaves = 31 and max_depth = 9\n",
      "[LightGBM] [Debug] Trained a tree with leaves = 31 and max_depth = 10\n",
      "[LightGBM] [Debug] Trained a tree with leaves = 31 and max_depth = 8\n",
      "[LightGBM] [Debug] Trained a tree with leaves = 31 and max_depth = 11\n",
      "[LightGBM] [Debug] Trained a tree with leaves = 31 and max_depth = 8\n",
      "[LightGBM] [Debug] Trained a tree with leaves = 31 and max_depth = 10\n",
      "[LightGBM] [Debug] Trained a tree with leaves = 31 and max_depth = 7\n",
      "[LightGBM] [Debug] Trained a tree with leaves = 31 and max_depth = 10\n",
      "[LightGBM] [Debug] Trained a tree with leaves = 31 and max_depth = 9\n",
      "[LightGBM] [Debug] Trained a tree with leaves = 31 and max_depth = 9\n",
      "[LightGBM] [Debug] Trained a tree with leaves = 31 and max_depth = 11\n",
      "[LightGBM] [Debug] Trained a tree with leaves = 31 and max_depth = 9\n",
      "[LightGBM] [Debug] Trained a tree with leaves = 31 and max_depth = 9\n",
      "[LightGBM] [Debug] Trained a tree with leaves = 31 and max_depth = 9\n",
      "[LightGBM] [Debug] Trained a tree with leaves = 31 and max_depth = 9\n",
      "[LightGBM] [Debug] Trained a tree with leaves = 31 and max_depth = 11\n",
      "[LightGBM] [Debug] Trained a tree with leaves = 31 and max_depth = 7\n",
      "[LightGBM] [Debug] Trained a tree with leaves = 31 and max_depth = 8\n",
      "[LightGBM] [Debug] Trained a tree with leaves = 31 and max_depth = 10\n",
      "[LightGBM] [Debug] Trained a tree with leaves = 31 and max_depth = 10\n",
      "[LightGBM] [Debug] Trained a tree with leaves = 31 and max_depth = 8\n",
      "[LightGBM] [Debug] Trained a tree with leaves = 31 and max_depth = 10\n",
      "[LightGBM] [Debug] Trained a tree with leaves = 31 and max_depth = 10\n",
      "[LightGBM] [Debug] Trained a tree with leaves = 31 and max_depth = 11\n",
      "[LightGBM] [Debug] Trained a tree with leaves = 31 and max_depth = 12\n",
      "[LightGBM] [Debug] Trained a tree with leaves = 31 and max_depth = 15\n",
      "[LightGBM] [Debug] Trained a tree with leaves = 31 and max_depth = 7\n",
      "[LightGBM] [Debug] Trained a tree with leaves = 31 and max_depth = 9\n",
      "[LightGBM] [Debug] Trained a tree with leaves = 31 and max_depth = 9\n",
      "[LightGBM] [Debug] Trained a tree with leaves = 31 and max_depth = 7\n",
      "[LightGBM] [Debug] Trained a tree with leaves = 31 and max_depth = 11\n",
      "[LightGBM] [Debug] Trained a tree with leaves = 31 and max_depth = 8\n",
      "[LightGBM] [Debug] Trained a tree with leaves = 31 and max_depth = 12\n",
      "[LightGBM] [Debug] Trained a tree with leaves = 31 and max_depth = 10\n",
      "[LightGBM] [Debug] Trained a tree with leaves = 31 and max_depth = 11\n",
      "[LightGBM] [Debug] Trained a tree with leaves = 31 and max_depth = 12\n",
      "[45]\tvalid_0's multi_logloss: 0.045889\n",
      "[LightGBM] [Debug] Trained a tree with leaves = 31 and max_depth = 8\n",
      "[LightGBM] [Debug] Trained a tree with leaves = 31 and max_depth = 10\n",
      "[LightGBM] [Debug] Trained a tree with leaves = 31 and max_depth = 10\n",
      "[LightGBM] [Debug] Trained a tree with leaves = 31 and max_depth = 11\n",
      "[LightGBM] [Debug] Trained a tree with leaves = 31 and max_depth = 10\n",
      "[LightGBM] [Debug] Trained a tree with leaves = 31 and max_depth = 8\n",
      "[LightGBM] [Debug] Trained a tree with leaves = 31 and max_depth = 10\n",
      "[LightGBM] [Debug] Trained a tree with leaves = 31 and max_depth = 9\n",
      "[LightGBM] [Debug] Trained a tree with leaves = 31 and max_depth = 9\n",
      "[LightGBM] [Debug] Trained a tree with leaves = 31 and max_depth = 9\n",
      "[LightGBM] [Debug] Trained a tree with leaves = 31 and max_depth = 7\n",
      "[LightGBM] [Debug] Trained a tree with leaves = 31 and max_depth = 10\n",
      "[LightGBM] [Debug] Trained a tree with leaves = 31 and max_depth = 9\n",
      "[LightGBM] [Debug] Trained a tree with leaves = 31 and max_depth = 9\n",
      "[LightGBM] [Debug] Trained a tree with leaves = 31 and max_depth = 9\n",
      "[LightGBM] [Debug] Trained a tree with leaves = 31 and max_depth = 10\n",
      "[LightGBM] [Debug] Trained a tree with leaves = 31 and max_depth = 10\n",
      "[LightGBM] [Debug] Trained a tree with leaves = 31 and max_depth = 10\n",
      "[LightGBM] [Debug] Trained a tree with leaves = 31 and max_depth = 9\n",
      "[LightGBM] [Debug] Trained a tree with leaves = 31 and max_depth = 8\n",
      "[LightGBM] [Debug] Trained a tree with leaves = 31 and max_depth = 8\n",
      "[LightGBM] [Debug] Trained a tree with leaves = 31 and max_depth = 12\n",
      "[LightGBM] [Debug] Trained a tree with leaves = 31 and max_depth = 9\n",
      "[LightGBM] [Debug] Trained a tree with leaves = 31 and max_depth = 10\n",
      "[LightGBM] [Debug] Trained a tree with leaves = 31 and max_depth = 12\n",
      "[LightGBM] [Debug] Trained a tree with leaves = 31 and max_depth = 9\n",
      "[LightGBM] [Debug] Trained a tree with leaves = 31 and max_depth = 11\n",
      "[LightGBM] [Debug] Trained a tree with leaves = 31 and max_depth = 9\n",
      "[LightGBM] [Debug] Trained a tree with leaves = 31 and max_depth = 7\n",
      "[LightGBM] [Debug] Trained a tree with leaves = 31 and max_depth = 10\n",
      "[LightGBM] [Debug] Trained a tree with leaves = 31 and max_depth = 10\n",
      "[LightGBM] [Debug] Trained a tree with leaves = 31 and max_depth = 8\n",
      "[LightGBM] [Debug] Trained a tree with leaves = 31 and max_depth = 9\n",
      "[LightGBM] [Debug] Trained a tree with leaves = 31 and max_depth = 10\n",
      "[LightGBM] [Debug] Trained a tree with leaves = 31 and max_depth = 11\n",
      "[LightGBM] [Debug] Trained a tree with leaves = 31 and max_depth = 7\n",
      "[LightGBM] [Debug] Trained a tree with leaves = 31 and max_depth = 10\n",
      "[LightGBM] [Debug] Trained a tree with leaves = 31 and max_depth = 11\n",
      "[LightGBM] [Debug] Trained a tree with leaves = 31 and max_depth = 8\n",
      "[LightGBM] [Debug] Trained a tree with leaves = 31 and max_depth = 11\n",
      "[LightGBM] [Debug] Trained a tree with leaves = 31 and max_depth = 9\n",
      "[LightGBM] [Debug] Trained a tree with leaves = 31 and max_depth = 9\n",
      "[LightGBM] [Debug] Trained a tree with leaves = 31 and max_depth = 13\n",
      "[LightGBM] [Debug] Trained a tree with leaves = 31 and max_depth = 12\n",
      "[LightGBM] [Debug] Trained a tree with leaves = 31 and max_depth = 10\n",
      "[LightGBM] [Debug] Trained a tree with leaves = 31 and max_depth = 10\n",
      "[LightGBM] [Debug] Trained a tree with leaves = 31 and max_depth = 9\n",
      "[LightGBM] [Debug] Trained a tree with leaves = 31 and max_depth = 11\n",
      "[LightGBM] [Debug] Trained a tree with leaves = 31 and max_depth = 10\n",
      "[LightGBM] [Debug] Trained a tree with leaves = 31 and max_depth = 13\n",
      "[50]\tvalid_0's multi_logloss: 0.0467374\n"
     ]
    }
   ],
   "source": [
    "gbm = lgb.train(\n",
    "params,\n",
    "train_data,\n",
    "valid_sets=eval_data,\n",
    "num_boost_round=50,\n",
    "verbose_eval=5,\n",
    ")"
   ]
  },
  {
   "cell_type": "code",
   "execution_count": 80,
   "metadata": {},
   "outputs": [],
   "source": [
    "def create_lgb_pred(model, x):\n",
    "    preds = model.predict(x)\n",
    "    pred_y = []\n",
    "\n",
    "    for x in preds:\n",
    "        pred_y.append(np.argmax(x))\n",
    "    return pred_y"
   ]
  },
  {
   "cell_type": "code",
   "execution_count": 81,
   "metadata": {},
   "outputs": [],
   "source": [
    "pred_y = create_lgb_pred(gbm, valid_x)"
   ]
  },
  {
   "cell_type": "code",
   "execution_count": 86,
   "metadata": {},
   "outputs": [
    {
     "name": "stdout",
     "output_type": "stream",
     "text": [
      "train acc:  1.0\n",
      "valid acc:  0.9895\n"
     ]
    }
   ],
   "source": [
    "print(\"train acc: \", accuracy_score(train_y, create_lgb_pred(gbm, train_x)))\n",
    "print(\"valid acc: \", accuracy_score(valid_y, create_lgb_pred(gbm, valid_x)))"
   ]
  },
  {
   "cell_type": "code",
   "execution_count": 79,
   "metadata": {},
   "outputs": [
    {
     "data": {
      "image/png": "[encoded data removed]",
      "text/plain": [
       "<Figure size 720x360 with 2 Axes>"
      ]
     },
     "metadata": {
      "needs_background": "light"
     },
     "output_type": "display_data"
    }
   ],
   "source": [
    "plt.figure(figsize=(10, 5))\n",
    "sns.heatmap(confusion_matrix(valid_y, y_pred), annot=True, cmap='Blues', fmt='g')\n",
    "plt.show()"
   ]
  },
  {
   "cell_type": "code",
   "execution_count": null,
   "metadata": {},
   "outputs": [],
   "source": []
  }
 ],
 "metadata": {
  "kernelspec": {
   "display_name": "Python 3",
   "language": "python",
   "name": "python3"
  },
  "language_info": {
   "codemirror_mode": {
    "name": "ipython",
    "version": 3
   },
   "file_extension": ".py",
   "mimetype": "text/x-python",
   "name": "python",
   "nbconvert_exporter": "python",
   "pygments_lexer": "ipython3",
   "version": "3.6.10"
  }
 },
 "nbformat": 4,
 "nbformat_minor": 4
}
